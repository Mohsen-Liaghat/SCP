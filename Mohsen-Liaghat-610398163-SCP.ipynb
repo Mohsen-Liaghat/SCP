{
 "cells": [
  {
   "cell_type": "code",
   "execution_count": 7,
   "metadata": {},
   "outputs": [],
   "source": [
    "from random import choices , random\n",
    "import numpy as np\n",
    "import pandas as pd \n",
    "import matplotlib.pyplot as plt "
   ]
  },
  {
   "cell_type": "code",
   "execution_count": 8,
   "metadata": {},
   "outputs": [],
   "source": [
    "class SS :\n",
    "  @staticmethod\n",
    "  def __read_data ( file_name ) -> \"Array\" : \n",
    "    data = []\n",
    "    with open( file_name ) as file :\n",
    "      for i in file :\n",
    "        data += list( map ( int , i.split() ) )\n",
    "    return np.array( data )\n",
    "  def __init__(self, file_name) -> None:\n",
    "    data = SS.__read_data( file_name )\n",
    "    self.n = data[0]\n",
    "    self.m = data[1]\n",
    "    self.costs = data[2 : self.m + 2]\n",
    "    self.ss = []\n",
    "    i = self.m + 2\n",
    "    tmp = 0\n",
    "    for k in range( self.n ) :\n",
    "      tmp = data[i]\n",
    "      self.ss.append( ( k , set( data[j] - 1 for j in range( i + 1 , tmp + i + 1 ) )) ) \n",
    "      i += tmp + 1\n",
    "    self.ss.sort(key= lambda x : len(x[1]))\n",
    "    self.ss = np.array( self.ss )"
   ]
  },
  {
   "attachments": {},
   "cell_type": "markdown",
   "metadata": {},
   "source": [
    "I want to put pheromones on the subsets. "
   ]
  },
  {
   "cell_type": "code",
   "execution_count": 9,
   "metadata": {},
   "outputs": [],
   "source": [
    "def not_covered ( included_in , cover ) :\n",
    "  for i in included_in :\n",
    "    if i in cover : \n",
    "      return False \n",
    "  return True"
   ]
  },
  {
   "cell_type": "code",
   "execution_count": 10,
   "metadata": {},
   "outputs": [],
   "source": [
    "def select_next_path ( posible_future , costs , pheromons , alpha , beta ) : \n",
    "  return choices ( posible_future , weights= [ (pheromons[i] ** alpha) * ( 1 / costs[i] ** beta ) for i in posible_future ])"
   ]
  },
  {
   "cell_type": "code",
   "execution_count": 11,
   "metadata": {},
   "outputs": [],
   "source": [
    "ss = SS( \"scp41.txt\" )\n",
    "ants_number = 1\n",
    "used_subsets = [set() for _ in range(ss.n)]\n",
    "beta = random()\n",
    "alpha = random() \n",
    "ants_pos = np.array ( [ set() for _ in range( ants_number ) ] )\n",
    "pheromons = [ 1 for _ in range( ants_number ) ]\n"
   ]
  },
  {
   "cell_type": "code",
   "execution_count": 12,
   "metadata": {},
   "outputs": [
    {
     "data": {
      "text/plain": [
       "<__main__.SS at 0x166fefcfa90>"
      ]
     },
     "execution_count": 12,
     "metadata": {},
     "output_type": "execute_result"
    }
   ],
   "source": [
    "for i, choices in ss.ss : \n",
    "  if not_covered( choices , used_subsets ) : \n",
    "    select_next_path ( used_subsets )"
   ]
  }
 ],
 "metadata": {
  "kernelspec": {
   "display_name": "Python 3",
   "language": "python",
   "name": "python3"
  },
  "language_info": {
   "codemirror_mode": {
    "name": "ipython",
    "version": 3
   },
   "file_extension": ".py",
   "mimetype": "text/x-python",
   "name": "python",
   "nbconvert_exporter": "python",
   "pygments_lexer": "ipython3",
   "version": "3.9.13"
  },
  "orig_nbformat": 4
 },
 "nbformat": 4,
 "nbformat_minor": 2
}
